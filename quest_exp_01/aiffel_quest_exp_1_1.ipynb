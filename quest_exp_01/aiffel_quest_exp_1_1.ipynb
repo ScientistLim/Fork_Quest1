{
 "cells": [
  {
   "cell_type": "markdown",
   "metadata": {
    "id": "q_AMCzB_7hGL"
   },
   "source": [
    "# 프로젝트 1: 손수 설계하는 선형회귀, 당뇨병 수치를 맞춰보자!\n",
    "## (1) 데이터 가져오기\n",
    "- ``sklearn.datasets``의 ``load_diabetes``에서 데이터를 가져와주세요.\n",
    "- ``diabetes``의 ``data``를 ``df_X``에, ``target``을 ``df_y``에 저장해주세요.\n",
    "\n"
   ]
  },
  {
   "cell_type": "code",
   "execution_count": 1,
   "metadata": {
    "id": "robzP_7P4fiM"
   },
   "outputs": [],
   "source": [
    "from sklearn.datasets import load_diabetes\n",
    "\n",
    "df_X, df_y = load_diabetes(return_X_y=True)"
   ]
  },
  {
   "cell_type": "markdown",
   "metadata": {
    "id": "WRXVzZsR9lUT"
   },
   "source": [
    "## (2) 모델에 입력할 데이터 X 준비하기\n",
    "- `df_X`에 있는 값들을 numpy array로 변환해서 저장해주세요."
   ]
  },
  {
   "cell_type": "code",
   "execution_count": 2,
   "metadata": {
    "colab": {
     "base_uri": "https://localhost:8080/"
    },
    "id": "gUDZ5XWB9ziR",
    "outputId": "7f38234a-4da2-4e96-efef-dc76529db67d"
   },
   "outputs": [
    {
     "data": {
      "text/plain": [
       "array([[ 0.03807591,  0.05068012,  0.06169621, ..., -0.00259226,\n",
       "         0.01990749, -0.01764613],\n",
       "       [-0.00188202, -0.04464164, -0.05147406, ..., -0.03949338,\n",
       "        -0.06833155, -0.09220405],\n",
       "       [ 0.08529891,  0.05068012,  0.04445121, ..., -0.00259226,\n",
       "         0.00286131, -0.02593034],\n",
       "       ...,\n",
       "       [ 0.04170844,  0.05068012, -0.01590626, ..., -0.01107952,\n",
       "        -0.04688253,  0.01549073],\n",
       "       [-0.04547248, -0.04464164,  0.03906215, ...,  0.02655962,\n",
       "         0.04452873, -0.02593034],\n",
       "       [-0.04547248, -0.04464164, -0.0730303 , ..., -0.03949338,\n",
       "        -0.00422151,  0.00306441]])"
      ]
     },
     "execution_count": 2,
     "metadata": {},
     "output_type": "execute_result"
    }
   ],
   "source": [
    "df_X"
   ]
  },
  {
   "cell_type": "markdown",
   "metadata": {
    "id": "qZmz3Eh_-NKz"
   },
   "source": [
    "## (3) 모델에 입력할 데이터 y 준비하기\n",
    "- `df_y`에 있는 값들을 numpy array로 변환해서 저장해주세요."
   ]
  },
  {
   "cell_type": "code",
   "execution_count": 3,
   "metadata": {
    "colab": {
     "base_uri": "https://localhost:8080/"
    },
    "id": "jG0G_FOg-Rg5",
    "outputId": "5c22549f-7008-42fb-8118-07d55d23e75b"
   },
   "outputs": [
    {
     "data": {
      "text/plain": [
       "array([151.,  75., 141., 206., 135.,  97., 138.,  63., 110., 310., 101.,\n",
       "        69., 179., 185., 118., 171., 166., 144.,  97., 168.,  68.,  49.,\n",
       "        68., 245., 184., 202., 137.,  85., 131., 283., 129.,  59., 341.,\n",
       "        87.,  65., 102., 265., 276., 252.,  90., 100.,  55.,  61.,  92.,\n",
       "       259.,  53., 190., 142.,  75., 142., 155., 225.,  59., 104., 182.,\n",
       "       128.,  52.,  37., 170., 170.,  61., 144.,  52., 128.,  71., 163.,\n",
       "       150.,  97., 160., 178.,  48., 270., 202., 111.,  85.,  42., 170.,\n",
       "       200., 252., 113., 143.,  51.,  52., 210.,  65., 141.,  55., 134.,\n",
       "        42., 111.,  98., 164.,  48.,  96.,  90., 162., 150., 279.,  92.,\n",
       "        83., 128., 102., 302., 198.,  95.,  53., 134., 144., 232.,  81.,\n",
       "       104.,  59., 246., 297., 258., 229., 275., 281., 179., 200., 200.,\n",
       "       173., 180.,  84., 121., 161.,  99., 109., 115., 268., 274., 158.,\n",
       "       107.,  83., 103., 272.,  85., 280., 336., 281., 118., 317., 235.,\n",
       "        60., 174., 259., 178., 128.,  96., 126., 288.,  88., 292.,  71.,\n",
       "       197., 186.,  25.,  84.,  96., 195.,  53., 217., 172., 131., 214.,\n",
       "        59.,  70., 220., 268., 152.,  47.,  74., 295., 101., 151., 127.,\n",
       "       237., 225.,  81., 151., 107.,  64., 138., 185., 265., 101., 137.,\n",
       "       143., 141.,  79., 292., 178.,  91., 116.,  86., 122.,  72., 129.,\n",
       "       142.,  90., 158.,  39., 196., 222., 277.,  99., 196., 202., 155.,\n",
       "        77., 191.,  70.,  73.,  49.,  65., 263., 248., 296., 214., 185.,\n",
       "        78.,  93., 252., 150.,  77., 208.,  77., 108., 160.,  53., 220.,\n",
       "       154., 259.,  90., 246., 124.,  67.,  72., 257., 262., 275., 177.,\n",
       "        71.,  47., 187., 125.,  78.,  51., 258., 215., 303., 243.,  91.,\n",
       "       150., 310., 153., 346.,  63.,  89.,  50.,  39., 103., 308., 116.,\n",
       "       145.,  74.,  45., 115., 264.,  87., 202., 127., 182., 241.,  66.,\n",
       "        94., 283.,  64., 102., 200., 265.,  94., 230., 181., 156., 233.,\n",
       "        60., 219.,  80.,  68., 332., 248.,  84., 200.,  55.,  85.,  89.,\n",
       "        31., 129.,  83., 275.,  65., 198., 236., 253., 124.,  44., 172.,\n",
       "       114., 142., 109., 180., 144., 163., 147.,  97., 220., 190., 109.,\n",
       "       191., 122., 230., 242., 248., 249., 192., 131., 237.,  78., 135.,\n",
       "       244., 199., 270., 164.,  72.,  96., 306.,  91., 214.,  95., 216.,\n",
       "       263., 178., 113., 200., 139., 139.,  88., 148.,  88., 243.,  71.,\n",
       "        77., 109., 272.,  60.,  54., 221.,  90., 311., 281., 182., 321.,\n",
       "        58., 262., 206., 233., 242., 123., 167.,  63., 197.,  71., 168.,\n",
       "       140., 217., 121., 235., 245.,  40.,  52., 104., 132.,  88.,  69.,\n",
       "       219.,  72., 201., 110.,  51., 277.,  63., 118.,  69., 273., 258.,\n",
       "        43., 198., 242., 232., 175.,  93., 168., 275., 293., 281.,  72.,\n",
       "       140., 189., 181., 209., 136., 261., 113., 131., 174., 257.,  55.,\n",
       "        84.,  42., 146., 212., 233.,  91., 111., 152., 120.,  67., 310.,\n",
       "        94., 183.,  66., 173.,  72.,  49.,  64.,  48., 178., 104., 132.,\n",
       "       220.,  57.])"
      ]
     },
     "execution_count": 3,
     "metadata": {},
     "output_type": "execute_result"
    }
   ],
   "source": [
    "df_y"
   ]
  },
  {
   "cell_type": "markdown",
   "metadata": {
    "id": "uAgCrV6W-Vqy"
   },
   "source": [
    "## (4) train 데이터와 test 데이터로 분리하기\n",
    "- `X`와 `y` 데이터를 각각 train 데이터와 test 데이터로 분리해주세요."
   ]
  },
  {
   "cell_type": "code",
   "execution_count": 4,
   "metadata": {
    "id": "jxMwA1fh-dpM"
   },
   "outputs": [],
   "source": [
    "from sklearn.model_selection import train_test_split\n",
    "\n",
    "X_train, X_test, y_train, y_test = train_test_split(df_X, df_y, test_size=0.2, random_state=10)\n"
   ]
  },
  {
   "cell_type": "markdown",
   "metadata": {
    "id": "NfGrPawV-3Wu"
   },
   "source": [
    "## (5) 모델 준비하기\n",
    "- 입력 데이터 개수에 맞는 가중치 `W`와 `b`를 준비해주세요.\n",
    "- 모델 함수를 구현해주세요."
   ]
  },
  {
   "cell_type": "code",
   "execution_count": 5,
   "metadata": {
    "id": "h5-kTGpy_A4H"
   },
   "outputs": [],
   "source": [
    "import numpy as np\n",
    "\n",
    "W = np.random.rand(X_train.shape[1])\n",
    "b = np.random.rand()\n",
    "\n",
    "def model(X, W, b):\n",
    "  pred = np.dot(X, W) + b\n",
    "  return pred"
   ]
  },
  {
   "cell_type": "markdown",
   "metadata": {
    "id": "4FrNZgYs_eJx"
   },
   "source": [
    "## (6) 손실함수 loss 정의하기\n",
    "- 손실함수를 MSE 함수로 정의해주세요."
   ]
  },
  {
   "cell_type": "code",
   "execution_count": 6,
   "metadata": {
    "id": "OkGfGPOH_i6c"
   },
   "outputs": [],
   "source": [
    "def MSE(a, b):\n",
    "  mse = ((a-b)**2).mean()\n",
    "  return mse\n",
    "\n",
    "def loss(X, W, b, y):\n",
    "  pred = model(X, W, b)\n",
    "  L = MSE(pred, y)\n",
    "  return L"
   ]
  },
  {
   "cell_type": "markdown",
   "metadata": {
    "id": "0sLO3kWrAIIb"
   },
   "source": [
    "## (7) 기울기를 구하는 `gradient` 함수 구현하기\n",
    "- 기울기를 계산하는 `gradient` 함수를 구현해주세요."
   ]
  },
  {
   "cell_type": "code",
   "execution_count": 7,
   "metadata": {
    "id": "FHexBwUrANy8"
   },
   "outputs": [],
   "source": [
    "def gradient(X, W, b, y):\n",
    "  N = len(y)\n",
    "  pred = model(X, W, b)\n",
    "  error = (pred - y)\n",
    "  dW = 1/N * 2 * np.dot(X.T, error)\n",
    "  db = 2 * error.mean()\n",
    "  return dW, db"
   ]
  },
  {
   "cell_type": "markdown",
   "metadata": {
    "id": "Nj77XLNyDgKn"
   },
   "source": [
    "## (8) 하이퍼 파라미터인 학습률 설정하기\n",
    "- 학습률, learning rate 를 설정해주세요.\n",
    "- 만약 학습이 잘 되지 않는다면 learning rate 값을 한번 여러 가지로 설정하며 실험해 보세요."
   ]
  },
  {
   "cell_type": "code",
   "execution_count": 8,
   "metadata": {
    "id": "0xm1aeZHDjXz"
   },
   "outputs": [],
   "source": [
    "LR = 0.5"
   ]
  },
  {
   "cell_type": "markdown",
   "metadata": {
    "id": "_NUxT7WRDm9w"
   },
   "source": [
    "## (9) 모델 학습하기\n",
    "- 정의된 손실함수와 기울기 함수로 모델을 학습해주세요.\n",
    "- loss값이 충분히 떨어질 때까지 학습을 진행해주세요.\n",
    "- 입력하는 데이터인 `X`에 들어가는 특성 컬럼들을 몇 개 빼도 괜찮습니다. 다양한 데이터로 실험해 보세요."
   ]
  },
  {
   "cell_type": "code",
   "execution_count": 9,
   "metadata": {
    "colab": {
     "base_uri": "https://localhost:8080/"
    },
    "id": "yXV3X8UmDvYk",
    "outputId": "cdcea371-0888-4283-c006-54fa2bf9deb3"
   },
   "outputs": [
    {
     "name": "stdout",
     "output_type": "stream",
     "text": [
      "Iteration 100 : Loss 3864.96\n",
      "Iteration 200 : Loss 3367.16\n",
      "Iteration 300 : Loss 3170.8\n",
      "Iteration 400 : Loss 3064.23\n",
      "Iteration 500 : Loss 2998.36\n",
      "Iteration 600 : Loss 2955.84\n",
      "Iteration 700 : Loss 2927.9\n",
      "Iteration 800 : Loss 2909.35\n",
      "Iteration 900 : Loss 2896.93\n",
      "Iteration 1000 : Loss 2888.55\n",
      "Iteration 1100 : Loss 2882.84\n",
      "Iteration 1200 : Loss 2878.92\n",
      "Iteration 1300 : Loss 2876.2\n",
      "Iteration 1400 : Loss 2874.29\n",
      "Iteration 1500 : Loss 2872.93\n",
      "Iteration 1600 : Loss 2871.95\n",
      "Iteration 1700 : Loss 2871.24\n",
      "Iteration 1800 : Loss 2870.71\n",
      "Iteration 1900 : Loss 2870.3\n",
      "Iteration 2000 : Loss 2869.99\n",
      "Iteration 2100 : Loss 2869.74\n",
      "Iteration 2200 : Loss 2869.53\n",
      "Iteration 2300 : Loss 2869.36\n",
      "Iteration 2400 : Loss 2869.22\n",
      "Iteration 2500 : Loss 2869.09\n",
      "Iteration 2600 : Loss 2868.98\n",
      "Iteration 2700 : Loss 2868.87\n",
      "Iteration 2800 : Loss 2868.77\n",
      "Iteration 2900 : Loss 2868.68\n",
      "Iteration 3000 : Loss 2868.6\n",
      "Iteration 3100 : Loss 2868.51\n",
      "Iteration 3200 : Loss 2868.43\n",
      "Iteration 3300 : Loss 2868.35\n",
      "Iteration 3400 : Loss 2868.28\n",
      "Iteration 3500 : Loss 2868.2\n",
      "Iteration 3600 : Loss 2868.13\n",
      "Iteration 3700 : Loss 2868.06\n",
      "Iteration 3800 : Loss 2867.98\n",
      "Iteration 3900 : Loss 2867.91\n",
      "Iteration 4000 : Loss 2867.84\n",
      "Iteration 4100 : Loss 2867.77\n",
      "Iteration 4200 : Loss 2867.7\n",
      "Iteration 4300 : Loss 2867.63\n",
      "Iteration 4400 : Loss 2867.56\n",
      "Iteration 4500 : Loss 2867.49\n",
      "Iteration 4600 : Loss 2867.42\n",
      "Iteration 4700 : Loss 2867.36\n",
      "Iteration 4800 : Loss 2867.29\n",
      "Iteration 4900 : Loss 2867.22\n",
      "Iteration 5000 : Loss 2867.15\n",
      "Iteration 5100 : Loss 2867.09\n",
      "Iteration 5200 : Loss 2867.02\n",
      "Iteration 5300 : Loss 2866.95\n",
      "Iteration 5400 : Loss 2866.89\n",
      "Iteration 5500 : Loss 2866.82\n",
      "Iteration 5600 : Loss 2866.76\n",
      "Iteration 5700 : Loss 2866.69\n",
      "Iteration 5800 : Loss 2866.63\n",
      "Iteration 5900 : Loss 2866.56\n",
      "Iteration 6000 : Loss 2866.5\n",
      "Iteration 6100 : Loss 2866.44\n",
      "Iteration 6200 : Loss 2866.37\n",
      "Iteration 6300 : Loss 2866.31\n",
      "Iteration 6400 : Loss 2866.25\n",
      "Iteration 6500 : Loss 2866.18\n",
      "Iteration 6600 : Loss 2866.12\n",
      "Iteration 6700 : Loss 2866.06\n",
      "Iteration 6800 : Loss 2866.0\n",
      "Iteration 6900 : Loss 2865.94\n",
      "Iteration 7000 : Loss 2865.87\n",
      "Iteration 7100 : Loss 2865.81\n",
      "Iteration 7200 : Loss 2865.75\n",
      "Iteration 7300 : Loss 2865.69\n",
      "Iteration 7400 : Loss 2865.63\n",
      "Iteration 7500 : Loss 2865.57\n",
      "Iteration 7600 : Loss 2865.51\n",
      "Iteration 7700 : Loss 2865.45\n",
      "Iteration 7800 : Loss 2865.39\n",
      "Iteration 7900 : Loss 2865.33\n",
      "Iteration 8000 : Loss 2865.27\n",
      "Iteration 8100 : Loss 2865.22\n",
      "Iteration 8200 : Loss 2865.16\n",
      "Iteration 8300 : Loss 2865.1\n",
      "Iteration 8400 : Loss 2865.04\n",
      "Iteration 8500 : Loss 2864.98\n",
      "Iteration 8600 : Loss 2864.93\n",
      "Iteration 8700 : Loss 2864.87\n",
      "Iteration 8800 : Loss 2864.81\n",
      "Iteration 8900 : Loss 2864.76\n",
      "Iteration 9000 : Loss 2864.7\n",
      "Iteration 9100 : Loss 2864.64\n",
      "Iteration 9200 : Loss 2864.59\n",
      "Iteration 9300 : Loss 2864.53\n",
      "Iteration 9400 : Loss 2864.48\n",
      "Iteration 9500 : Loss 2864.42\n",
      "Iteration 9600 : Loss 2864.37\n",
      "Iteration 9700 : Loss 2864.31\n",
      "Iteration 9800 : Loss 2864.26\n",
      "Iteration 9900 : Loss 2864.2\n",
      "Iteration 10000 : Loss 2864.15\n"
     ]
    }
   ],
   "source": [
    "losses = []\n",
    "\n",
    "for i in range(1,10001):\n",
    "  dW, db = gradient(X_train, W, b, y_train)\n",
    "  W -= LR * dW\n",
    "  b -= LR * db\n",
    "  L = loss(X_train, W, b, y_train)\n",
    "  losses.append(L)\n",
    "  if i % 100 == 0:\n",
    "    print(f'Iteration {i} : Loss {L.round(2)}')"
   ]
  },
  {
   "cell_type": "markdown",
   "metadata": {
    "id": "Wv8rpUwZFY64"
   },
   "source": [
    "## (10) test 데이터에 대한 성능 확인하기\n",
    "- test 데이터에 대한 성능을 확인해주세요."
   ]
  },
  {
   "cell_type": "code",
   "execution_count": 10,
   "metadata": {
    "colab": {
     "base_uri": "https://localhost:8080/"
    },
    "id": "Qv3P0gXrFbv2",
    "outputId": "853884c4-faea-44c7-f5ff-5210b64ce1b7"
   },
   "outputs": [
    {
     "data": {
      "text/plain": [
       "2937.74066685116"
      ]
     },
     "execution_count": 10,
     "metadata": {},
     "output_type": "execute_result"
    }
   ],
   "source": [
    "pred = model(X_test, W, b)\n",
    "mse = loss(X_test, W, b, y_test)\n",
    "mse"
   ]
  },
  {
   "cell_type": "markdown",
   "metadata": {
    "id": "8TiPxVsXF5yN"
   },
   "source": [
    "## (11) 정답 데이터와 예측한 데이터 시각화하기\n",
    "- x축에는 X 데이터의 첫 번째 컬럼을, y축에는 정답인 target 데이터를 넣어서 모델이 예측한 데이터를 시각화해 주세요."
   ]
  },
  {
   "cell_type": "code",
   "execution_count": 11,
   "metadata": {
    "id": "AM8fvzPoF-tD"
   },
   "outputs": [],
   "source": [
    "import matplotlib.pyplot as plt"
   ]
  },
  {
   "cell_type": "code",
   "execution_count": 12,
   "metadata": {
    "colab": {
     "base_uri": "https://localhost:8080/",
     "height": 430
    },
    "id": "1prEghigFnxm",
    "outputId": "fceeda7f-a67e-4a81-a5d0-e2fa0d678fc1"
   },
   "outputs": [
    {
     "data": {
      "image/png": "[encoded data removed]",
      "text/plain": [
       "<Figure size 640x480 with 1 Axes>"
      ]
     },
     "metadata": {},
     "output_type": "display_data"
    }
   ],
   "source": [
    "plt.scatter(X_test[:, 2], y_test, label='true')\n",
    "plt.scatter(X_test[:, 2], pred, label='pred')\n",
    "plt.legend()\n",
    "plt.show()"
   ]
  }
 ],
 "metadata": {
  "colab": {
   "provenance": []
  },
  "kernelspec": {
   "display_name": "Python 3",
   "name": "python3"
  },
  "language_info": {
   "name": "python"
  }
 },
 "nbformat": 4,
 "nbformat_minor": 0
}
